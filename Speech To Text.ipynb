{
 "cells": [
  {
   "cell_type": "code",
   "execution_count": 1,
   "metadata": {},
   "outputs": [],
   "source": [
    "import speech_recognition as sr\n",
    "import pyttsx3"
   ]
  },
  {
   "cell_type": "code",
   "execution_count": 2,
   "metadata": {},
   "outputs": [],
   "source": [
    "r = sr.Recognizer()"
   ]
  },
  {
   "cell_type": "code",
   "execution_count": null,
   "metadata": {},
   "outputs": [
    {
     "name": "stdout",
     "output_type": "stream",
     "text": [
      "\n",
      "\n",
      "\n",
      "what is this\n",
      "what is the answer of question\n",
      "tendon\n",
      "10\n",
      "\n",
      "\n",
      "pasand hai\n",
      "Dipawali dimag\n",
      "\n",
      "\n",
      "\n",
      "\n",
      "\n",
      "listen to me or not\n",
      "\n",
      "\n",
      "\n",
      "\n",
      "\n",
      "\n",
      "\n",
      "\n",
      "\n",
      "\n",
      "\n"
     ]
    }
   ],
   "source": [
    "while(1):\n",
    "    try:\n",
    "        with sr.Microphone() as src2:\n",
    "            r.adjust_for_ambient_noise(src2,duration=0.2)\n",
    "            audio2 = r.record(src2,duration = 4)\n",
    "            mytext = r.recognize_google(audio2)\n",
    "            print(mytext)\n",
    "    except sr.RequestError as e:\n",
    "        print(\"Could not request results {0}\".format(e))\n",
    "    except sr.UnknownValueError as e:\n",
    "        print(str(e))"
   ]
  },
  {
   "cell_type": "code",
   "execution_count": null,
   "metadata": {},
   "outputs": [],
   "source": []
  }
 ],
 "metadata": {
  "kernelspec": {
   "display_name": "Python 3",
   "language": "python",
   "name": "python3"
  },
  "language_info": {
   "codemirror_mode": {
    "name": "ipython",
    "version": 3
   },
   "file_extension": ".py",
   "mimetype": "text/x-python",
   "name": "python",
   "nbconvert_exporter": "python",
   "pygments_lexer": "ipython3",
   "version": "3.7.7"
  }
 },
 "nbformat": 4,
 "nbformat_minor": 4
}
